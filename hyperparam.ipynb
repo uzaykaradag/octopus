{
 "cells": [
  {
   "metadata": {
    "ExecuteTime": {
     "end_time": "2024-08-13T13:27:43.548663Z",
     "start_time": "2024-08-13T13:27:42.500147Z"
    }
   },
   "cell_type": "code",
   "source": [
    "import numpy as np\n",
    "from sklearn.model_selection import ParameterSampler, KFold\n",
    "import octopus.dataset as ds \n",
    "from octopus.core import predict\n",
    "from octopus.core.metrics import calculate_dice"
   ],
   "id": "5cff503793e2a279",
   "outputs": [],
   "execution_count": 2
  },
  {
   "metadata": {
    "ExecuteTime": {
     "end_time": "2024-08-13T13:29:22.301062Z",
     "start_time": "2024-08-13T13:29:22.291373Z"
    }
   },
   "cell_type": "code",
   "source": "",
   "id": "2ec7c0e7088a998",
   "outputs": [],
   "execution_count": 5
  },
  {
   "metadata": {},
   "cell_type": "code",
   "outputs": [],
   "execution_count": null,
   "source": "",
   "id": "998decaacb4a01e9"
  }
 ],
 "metadata": {
  "kernelspec": {
   "display_name": "Python 3",
   "language": "python",
   "name": "python3"
  },
  "language_info": {
   "codemirror_mode": {
    "name": "ipython",
    "version": 2
   },
   "file_extension": ".py",
   "mimetype": "text/x-python",
   "name": "python",
   "nbconvert_exporter": "python",
   "pygments_lexer": "ipython2",
   "version": "2.7.6"
  }
 },
 "nbformat": 4,
 "nbformat_minor": 5
}
