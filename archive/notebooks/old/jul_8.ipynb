{
 "cells": [
  {
   "metadata": {
    "ExecuteTime": {
     "end_time": "2024-07-09T14:57:00.668395Z",
     "start_time": "2024-07-09T14:57:00.661909Z"
    }
   },
   "cell_type": "code",
   "source": [
    "import os\n",
    "from sklearn.model_selection import train_test_split\n",
    "import cv2\n",
    "import matplotlib.pyplot as plt\n",
    "import numpy as np\n",
    "# Import relevant python packages\n",
    "from gpet_oct import utils, gpet\n",
    "import importlib\n",
    "%matplotlib inline"
   ],
   "outputs": [],
   "execution_count": 83
  },
  {
   "cell_type": "code",
   "metadata": {
    "ExecuteTime": {
     "end_time": "2024-07-09T14:57:00.934564Z",
     "start_time": "2024-07-09T14:57:00.928340Z"
    }
   },
   "source": [
    "importlib.reload(gpet)\n",
    "importlib.reload(gpet_utils)"
   ],
   "outputs": [
    {
     "data": {
      "text/plain": [
       "<module 'gp_edge_tracing.gpet_utils' from '/Users/uzaykaradag/Documents/School/Dissertation/gpr-oct-segmentation/gp_edge_tracing/gpet_utils.py'>"
      ]
     },
     "execution_count": 84,
     "metadata": {},
     "output_type": "execute_result"
    }
   ],
   "execution_count": 84
  },
  {
   "cell_type": "markdown",
   "metadata": {},
   "source": [
    "### Loading and splitting the dataset\n",
    "Here the dataset is loaded as scans and masks and split into an **80-20 train-test** split. This results in **4192 train** samples from and **1048 test** samples."
   ]
  },
  {
   "cell_type": "code",
   "metadata": {
    "ExecuteTime": {
     "end_time": "2024-07-09T14:57:02.093309Z",
     "start_time": "2024-07-09T14:57:02.056556Z"
    }
   },
   "source": [
    "scan_dir = 'data/scans'\n",
    "mask_dir = 'data/masks'\n",
    "\n",
    "# Get the list of scan and mask filenames\n",
    "scan_files = os.listdir(scan_dir)\n",
    "mask_files = os.listdir(mask_dir)\n",
    "\n",
    "# Ensure the filenames match between scans and masks\n",
    "assert len(scan_files) == len(mask_files), \"Number of scans and masks do not match!\"\n",
    "for scan_file, mask_file in zip(scan_files, mask_files):\n",
    "    assert scan_file == mask_file, f\"Scan file {scan_file} does not match mask file {mask_file}!\"\n",
    "\n",
    "# Split the filenames into train and test sets\n",
    "train_files, test_files = train_test_split(scan_files, test_size=0.2, random_state=42)"
   ],
   "outputs": [],
   "execution_count": 85
  },
  {
   "cell_type": "markdown",
   "metadata": {},
   "source": [
    "### Preprocessing the data\n",
    "Here I preprocess the dataset so that:\n",
    "- The scans and the masks are **resized** to be the same shape, here I pick (350, 500) since it's the average shape\n",
    "- The scans are made to be true **grayscale**\n",
    "- The masks are used to extract the coordinates of the **groundtruth edge** (ELM)"
   ]
  },
  {
   "cell_type": "code",
   "metadata": {},
   "source": [
    "def preprocess_scan(scan_path):\n",
    "    # Load the OCT scan image as grayscale\n",
    "    scan = cv2.imread(scan_path, cv2.IMREAD_GRAYSCALE)\n",
    "    # Resize the scan to have shape (350, 500)\n",
    "    scan = cv2.resize(scan, (500, 350))\n",
    "    # Normalise pixel intensities to the range [0, 1]\n",
    "    scan = scan.astype(np.float32) / 255.0\n",
    "\n",
    "    return scan\n",
    "\n",
    "\n",
    "def extract_elm_coords(mask_path):\n",
    "    # Load the mask image as grayscale\n",
    "    mask = cv2.imread(mask_path, cv2.IMREAD_GRAYSCALE)\n",
    "    # Resize the mask to have shape (350, 500)\n",
    "    mask = cv2.resize(mask, (500, 350))\n",
    "\n",
    "    # Threshold the mask to create a binary image\n",
    "    _, binary_mask = cv2.threshold(mask, 127, 255, cv2.THRESH_BINARY)\n",
    "\n",
    "    # Find the non-zero pixel coordinates in the binary mask\n",
    "    elm_coords = np.argwhere(binary_mask > 0)\n",
    "    return elm_coords\n",
    "\n",
    "\n",
    "def load_dataset(files, scan_directory, mask_directory):\n",
    "    scans = []\n",
    "    elm_coords_list = []\n",
    "    for file in files:\n",
    "        scan_path = os.path.join(scan_directory, file)\n",
    "        mask_path = os.path.join(mask_directory, file)\n",
    "\n",
    "        # Load and preprocess the OCT scan\n",
    "        scan = preprocess_scan(scan_path)\n",
    "        scans.append(scan)\n",
    "\n",
    "        # Extract the ELM coordinates from the mask\n",
    "        elm_coords = extract_elm_coords(mask_path)\n",
    "        elm_coords_list.append(elm_coords)\n",
    "\n",
    "    return scans, elm_coords_list\n",
    "\n",
    "\n",
    "# Load the training data\n",
    "train_scans, train_elm_coords = load_dataset(train_files, scan_dir, mask_dir)\n",
    "\n",
    "# Load the testing data\n",
    "test_scans, test_elm_coords = load_dataset(test_files, scan_dir, mask_dir)\n",
    "\n",
    "# Print some information about the loaded data\n",
    "print(f\"Number of training samples: {len(train_scans)}\")\n",
    "print(f\"Number of testing samples: {len(test_scans)}\")\n",
    "print(f\"Shape of first training scan: {train_scans[0].shape}\")  # Checking the resizing was done correctly\n",
    "print(f\"Number of ELM coordinates in first training mask: {len(train_elm_coords[0])}\")"
   ],
   "outputs": [],
   "execution_count": null
  },
  {
   "cell_type": "code",
   "metadata": {},
   "source": [
    "def display_elm_on_scan(scan, elm_coords, figsize=(10, 10), compare=False, true_elm_coords=None):\n",
    "    \"\"\"\n",
    "    Display the ELM coordinates overlaid on the OCT scan.\n",
    "    \n",
    "    Parameters:\n",
    "    - scan: 2D numpy array representing the OCT scan\n",
    "    - elm_coords: numpy array of shape (N, 2) representing the predicted ELM coordinates\n",
    "    - figsize: tuple, size of the figure (width, height) in inches\n",
    "    - compare: boolean, if True, compare predicted ELM coordinates with true ELM coordinates\n",
    "    - true_elm_coords: numpy array of shape (N, 2) representing the true ELM coordinates (required if compare is True)\n",
    "    \"\"\"\n",
    "\n",
    "    plt.figure(figsize=figsize)\n",
    "\n",
    "    # Display the scan\n",
    "    plt.imshow(scan, cmap='gray')\n",
    "\n",
    "    # Overlay the predicted ELM coordinates\n",
    "    plt.scatter(elm_coords[:, 1], elm_coords[:, 0], c='red', s=1, alpha=0.5, label='Predicted ELM')\n",
    "\n",
    "    if compare:\n",
    "        if true_elm_coords is None:\n",
    "            raise ValueError(\"true_elm_coords must be provided when compare is True\")\n",
    "\n",
    "        # Overlay the true ELM coordinates\n",
    "        plt.scatter(true_elm_coords[:, 1], true_elm_coords[:, 0], c='green', s=1, alpha=0.5, label='True ELM')\n",
    "\n",
    "        # Calculate the DICE coefficient\n",
    "        dice_coef = gpet_utils.trace_dicecoef(elm_coords, true_elm_coords)\n",
    "        plt.title(f'OCT Scan with ELM Coordinates (DICE: {dice_coef:.4f})')\n",
    "    else:\n",
    "        plt.title('OCT Scan with ELM Coordinates')\n",
    "\n",
    "    plt.legend()\n",
    "    plt.axis()\n",
    "    plt.tight_layout()\n",
    "    plt.show()"
   ],
   "outputs": [],
   "execution_count": null
  },
  {
   "cell_type": "code",
   "metadata": {},
   "source": [
    "def compute_edge_map(scan):\n",
    "    # Create a kernel for edge detection\n",
    "    kernel = gpet_utils.kernel_builder(size=(11, 5), unit=False, normalize=True)\n",
    "    # Compute the gradient image\n",
    "    grad_img = gpet_utils.comp_grad_img(scan, kernel)\n",
    "    return grad_img"
   ],
   "outputs": [],
   "execution_count": null
  },
  {
   "metadata": {},
   "cell_type": "code",
   "source": [
    "# Test the function using a singular scan\n",
    "test_idx = 0\n",
    "test_scan = train_scans[test_idx]\n",
    "test_elm = train_elm_coords[test_idx]\n",
    "test_edge_map = compute_edge_map(test_scan)"
   ],
   "outputs": [],
   "execution_count": null
  },
  {
   "metadata": {},
   "cell_type": "code",
   "source": "display_elm_on_scan(test_scan, test_elm)",
   "outputs": [],
   "execution_count": null
  },
  {
   "metadata": {},
   "cell_type": "code",
   "source": [
    "# Get initialization edges from the true_elm_coords aka mask\n",
    "init = test_elm[[0, -1], :][:, [1, 0]]\n",
    "# Switch rows so the x's are in ascending order\n",
    "init[[0, 1]] = init[[1, 0]]\n",
    "init"
   ],
   "outputs": [],
   "execution_count": null
  },
  {
   "metadata": {},
   "cell_type": "code",
   "source": [
    "# Display the edge map with ELM annotated\n",
    "display_elm_on_scan(test_edge_map, test_elm)"
   ],
   "outputs": [],
   "execution_count": null
  },
  {
   "metadata": {},
   "cell_type": "markdown",
   "source": [
    "# TODO: TRY TO DO COMBINE KERNELS TO GET BETTER RESULTS.\n",
    "*MIGHT BE EXP.*\n"
   ]
  },
  {
   "cell_type": "code",
   "metadata": {},
   "source": [
    "gp_kwargs = dict(\n",
    "    kernel_options={'kernel': 'Matern', 'sigma_f': 60, 'length_scale': 20, 'nu': 2.5},\n",
    "    delta_x=8,\n",
    "    score_thresh=0.5,\n",
    "    N_samples=1000,\n",
    "    seed=1,\n",
    "    noise_y=0.5,\n",
    "    keep_ratio=0.1,\n",
    "    pixel_thresh=5,\n",
    "    fix_endpoints=True,\n",
    "    return_std=True\n",
    ")\n",
    "\n",
    "# Instantiate algorithm using parameters in __init__()\n",
    "noisy_trace = gpet.GP_Edge_Tracing(init, test_edge_map, **gp_kwargs)"
   ],
   "outputs": [],
   "execution_count": null
  },
  {
   "cell_type": "code",
   "metadata": {},
   "source": [
    "# __call__() parameters and run algorithm on test image\n",
    "print_final_diagnostics = False\n",
    "show_init_post = True\n",
    "show_post_iter = True\n",
    "verbose = True\n",
    "edge_pred, edge_credint = noisy_trace(print_final_diagnostics,\n",
    "                                      show_init_post,\n",
    "                                      show_post_iter,\n",
    "                                      verbose)"
   ],
   "outputs": [],
   "execution_count": null
  },
  {
   "metadata": {},
   "cell_type": "code",
   "source": "display_elm_on_scan(test_scan, edge_pred, compare=True, true_elm_coords=test_elm)",
   "outputs": [],
   "execution_count": null
  },
  {
   "metadata": {},
   "cell_type": "markdown",
   "source": "**Experimenting with the use of the variable `obs`**"
  },
  {
   "metadata": {},
   "cell_type": "code",
   "source": "test_elm",
   "outputs": [],
   "execution_count": null
  },
  {
   "metadata": {},
   "cell_type": "markdown",
   "source": "**Here I randomly select 100 xy-points as the `obs` variable.**"
  },
  {
   "metadata": {},
   "cell_type": "code",
   "source": [
    "# Randomly select 100 rows\n",
    "test_obs = test_elm[np.random.choice(test_elm.shape[0], size=100, replace=False), :]\n",
    "test_obs = test_obs[test_obs[:, 0].argsort()]\n",
    "test_obs"
   ],
   "outputs": [],
   "execution_count": null
  },
  {
   "metadata": {},
   "cell_type": "code",
   "source": "display_elm_on_scan(test_scan, test_obs)",
   "outputs": [],
   "execution_count": null
  },
  {
   "metadata": {},
   "cell_type": "code",
   "source": [
    "gp_kwargs_obs = dict(\n",
    "    kernel_options={'kernel': 'Matern', 'sigma_f': 60, 'length_scale': 20, 'nu': 2.5},\n",
    "    delta_x=8,\n",
    "    score_thresh=0.5,\n",
    "    N_samples=1000,\n",
    "    seed=1,\n",
    "    noise_y=0.5,\n",
    "    keep_ratio=0.1,\n",
    "    pixel_thresh=5,\n",
    "    fix_endpoints=True,\n",
    "    return_std=True,\n",
    "    obs=test_obs\n",
    ")\n",
    "\n",
    "# Instantiate algorithm using parameters in __init__()\n",
    "noisy_trace_w_obs = gpet.GP_Edge_Tracing(init, test_edge_map, **gp_kwargs_obs)"
   ],
   "outputs": [],
   "execution_count": null
  },
  {
   "metadata": {},
   "cell_type": "code",
   "source": [
    "# __call__() parameters and run algorithm on test image\n",
    "print_final_diagnostics = False\n",
    "show_init_post = True\n",
    "show_post_iter = True\n",
    "verbose = True\n",
    "edge_pred_obs, edge_credint_obs = noisy_trace_w_obs(print_final_diagnostics,\n",
    "                                                    show_init_post,\n",
    "                                                    show_post_iter,\n",
    "                                                    verbose)"
   ],
   "outputs": [],
   "execution_count": null
  },
  {
   "metadata": {},
   "cell_type": "code",
   "source": "display_elm_on_scan(test_scan, edge_pred_obs, compare=True, true_elm_coords=test_elm)",
   "outputs": [],
   "execution_count": null
  },
  {
   "metadata": {},
   "cell_type": "markdown",
   "source": [
    "**In reality, we will not have the luxury of having the masks for the ELM annotations hence this is impractical, but I will implement the Bayesian Recursive Scheme where the `obs` variable will be dependent on the prior scans and their predictions, or a subset will be predetermined to come up with knowledge.**\n",
    "\n",
    "**Now, we will try to improve the accuracy of the model by selecting linearly spaced xy-points from `test_elm_coords`.**"
   ]
  },
  {
   "metadata": {},
   "cell_type": "code",
   "source": [
    "num_rows = test_elm.shape[0]\n",
    "\n",
    "start, stop = 0, num_rows - 1\n",
    "row_indices = np.linspace(start, stop, num=100, dtype=int)\n",
    "\n",
    "test_obs_lp = test_elm[row_indices, :]\n",
    "\n",
    "test_obs_lp = test_obs_lp[test_obs_lp[:, 0].argsort()]\n",
    "\n",
    "test_obs_lp"
   ],
   "outputs": [],
   "execution_count": null
  },
  {
   "metadata": {},
   "cell_type": "code",
   "source": "display_elm_on_scan(test_scan, test_obs_lp)",
   "outputs": [],
   "execution_count": null
  },
  {
   "metadata": {},
   "cell_type": "code",
   "source": [
    "gp_kwargs_obs_lp = dict(\n",
    "    kernel_options={'kernel': 'Matern', 'sigma_f': 60, 'length_scale': 20, 'nu': 2.5},\n",
    "    delta_x=8,\n",
    "    score_thresh=0.5,\n",
    "    N_samples=1000,\n",
    "    seed=1,\n",
    "    noise_y=0.5,\n",
    "    keep_ratio=0.1,\n",
    "    pixel_thresh=5,\n",
    "    fix_endpoints=True,\n",
    "    return_std=True,\n",
    "    obs=test_obs_lp\n",
    ")\n",
    "\n",
    "# Instantiate algorithm using parameters in __init__()\n",
    "noisy_trace_w_obs_lp = gpet.GP_Edge_Tracing(init, test_edge_map, **gp_kwargs_obs_lp)"
   ],
   "outputs": [],
   "execution_count": null
  },
  {
   "metadata": {},
   "cell_type": "code",
   "source": [
    "# __call__() parameters and run algorithm on test image\n",
    "print_final_diagnostics = False\n",
    "show_init_post = True\n",
    "show_post_iter = True\n",
    "verbose = True\n",
    "edge_pred_lp, edge_credint_lp = noisy_trace(print_final_diagnostics,\n",
    "                                            show_init_post,\n",
    "                                            show_post_iter,\n",
    "                                            verbose)"
   ],
   "outputs": [],
   "execution_count": null
  },
  {
   "metadata": {},
   "cell_type": "code",
   "source": "display_elm_on_scan(test_scan, edge_pred_lp, compare=True, true_elm_coords=test_elm)",
   "outputs": [],
   "execution_count": null
  },
  {
   "metadata": {},
   "cell_type": "code",
   "source": "",
   "outputs": [],
   "execution_count": null
  }
 ],
 "metadata": {
  "kernelspec": {
   "display_name": "Python 3",
   "language": "python",
   "name": "python3"
  },
  "language_info": {
   "codemirror_mode": {
    "name": "ipython",
    "version": 3
   },
   "file_extension": ".py",
   "mimetype": "text/x-python",
   "name": "python",
   "nbconvert_exporter": "python",
   "pygments_lexer": "ipython3",
   "version": "3.12.2"
  }
 },
 "nbformat": 4,
 "nbformat_minor": 2
}
